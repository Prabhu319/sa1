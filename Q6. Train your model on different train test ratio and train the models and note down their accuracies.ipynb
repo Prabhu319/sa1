{
 "cells": [
  {
   "cell_type": "code",
   "execution_count": 10,
   "metadata": {},
   "outputs": [
    {
     "name": "stdout",
     "output_type": "stream",
     "text": [
      "Train 50% - Test 50%: Accuracy = 1.00\n",
      "Train 60% - Test 40%: Accuracy = 1.00\n",
      "Train 70% - Test 30%: Accuracy = 1.00\n",
      "Train 80% - Test 19%: Accuracy = 1.00\n",
      "Train 90% - Test 9%: Accuracy = 1.00\n"
     ]
    }
   ],
   "source": [
    "from sklearn.datasets import load_iris\n",
    "from sklearn.model_selection import train_test_split\n",
    "from sklearn.linear_model import LogisticRegression\n",
    "from sklearn.metrics import accuracy_score\n",
    "iris = load_iris()\n",
    "X, y = iris.data, iris.target\n",
    "train_test_ratios = [0.5, 0.6, 0.7, 0.8, 0.9]\n",
    "accuracy_results = {}\n",
    "for ratio in train_test_ratios:\n",
    "    X_train, X_test, y_train, y_test = train_test_split(X, y, train_size=ratio, random_state=42)\n",
    "    model = LogisticRegression(max_iter=200)\n",
    "    model.fit(X_train, y_train)\n",
    "    y_pred = model.predict(X_test)\n",
    "    accuracy = accuracy_score(y_test, y_pred)\n",
    "    accuracy_results[f\"Train {int(ratio*100)}% - Test {int((1-ratio)*100)}%\"] = accuracy\n",
    "for ratio, acc in accuracy_results.items():\n",
    "    print(f\"{ratio}: Accuracy = {acc:.2f}\")\n"
   ]
  }
 ],
 "metadata": {
  "kernelspec": {
   "display_name": "base",
   "language": "python",
   "name": "python3"
  },
  "language_info": {
   "codemirror_mode": {
    "name": "ipython",
    "version": 3
   },
   "file_extension": ".py",
   "mimetype": "text/x-python",
   "name": "python",
   "nbconvert_exporter": "python",
   "pygments_lexer": "ipython3",
   "version": "3.11.3"
  }
 },
 "nbformat": 4,
 "nbformat_minor": 2
}
